{
 "cells": [
  {
   "cell_type": "code",
   "execution_count": 3,
   "metadata": {},
   "outputs": [],
   "source": [
    "from pandas_datareader import data\n",
    "import datetime\n",
    "import yfinance as yf\n",
    "from bokeh.plotting import figure, show, output_file\n",
    "from bokeh.embed import components\n",
    "from bokeh.resources import CDN\n",
    "\n",
    "\n",
    "\n",
    "start=datetime.datetime(2018,3,20)\n",
    "end=datetime.datetime(2020,3,20)\n",
    "\n",
    "df=data.DataReader(name=\"BTC-USD\",data_source=\"yahoo\",start=start,end=end)\n",
    "df\n",
    "\n",
    "def market(c,o):\n",
    "    if c > o:\n",
    "        value=\"Bull\"\n",
    "    elif c < o: \n",
    "        value=\"Bear\"\n",
    "    else:\n",
    "        value=\"Equal\"\n",
    "    return value\n",
    "\n",
    "df[\"Status\"]=[market(c,o) for c, o in zip(df.Close,df.Open)]\n",
    "df[\"Avg_price\"]=(df.Open+df.Close)/2\n",
    "df[\"Height\"]=abs(df.Open-df.Close)\n",
    "\n",
    "p=figure(x_axis_type=\"datetime\", width=1000, height=300, sizing_mode=\"scale_width\")\n",
    "p.title.text=\"Apple\"\n",
    "p.grid.grid_line_alpha=0.65\n",
    "\n",
    "p.segment(df.index,df.High,df.index,df.Low, color=\"black\")\n",
    "\n",
    "hours12=12*60*60*1000\n",
    "p.rect(df.index[df.Status==\"Bull\"],df.Avg_price[df.Status==\"Bull\"],hours12,df.Height[df.Status==\"Bull\"], fill_color=\"green\", line_color=\"black\") \n",
    "p.rect(df.index[df.Status==\"Bear\"],df.Avg_price[df.Status==\"Bear\"],hours12,df.Height[df.Status==\"Bear\"], fill_color=\"red\", line_color=\"black\") \n",
    "p.rect(df.index[df.Status==\"Equal\"],df.Avg_price[df.Status==\"Equal\"],hours12,df.Height[df.Status==\"Equal\"], fill_color=\"black\", line_color=\"black\") \n",
    "\n",
    "script1, div1 = components(p)\n",
    "cdn_js=CDN.js_files\n",
    "cdn_css=CDN.css_files\n",
    "\n",
    "output_file(\"CS.html\")\n",
    "show(p)\n",
    "\n"
   ]
  },
  {
   "cell_type": "code",
   "execution_count": 39,
   "metadata": {},
   "outputs": [
    {
     "data": {
      "text/plain": [
       "'https://cdn.pydata.org/bokeh/release/bokeh-1.2.0.min.js'"
      ]
     },
     "execution_count": 39,
     "metadata": {},
     "output_type": "execute_result"
    }
   ],
   "source": [
    "cdn_js[0]"
   ]
  },
  {
   "cell_type": "code",
   "execution_count": 38,
   "metadata": {},
   "outputs": [
    {
     "data": {
      "text/plain": [
       "'https://cdn.pydata.org/bokeh/release/bokeh-1.2.0.min.css'"
      ]
     },
     "execution_count": 38,
     "metadata": {},
     "output_type": "execute_result"
    }
   ],
   "source": [
    "cdn_css[0]"
   ]
  }
 ],
 "metadata": {
  "kernelspec": {
   "display_name": "Python 3",
   "language": "python",
   "name": "python3"
  },
  "language_info": {
   "codemirror_mode": {
    "name": "ipython",
    "version": 3
   },
   "file_extension": ".py",
   "mimetype": "text/x-python",
   "name": "python",
   "nbconvert_exporter": "python",
   "pygments_lexer": "ipython3",
   "version": "3.7.3"
  }
 },
 "nbformat": 4,
 "nbformat_minor": 2
}
