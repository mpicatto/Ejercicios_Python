{
 "cells": [
  {
   "cell_type": "code",
   "execution_count": 1,
   "metadata": {},
   "outputs": [],
   "source": [
    "#Hacer un grafico sencillo.\n",
    "#importando libreria Bokeh\n",
    "from bokeh.plotting import figure\n",
    "from bokeh.io import output_file, show\n",
    "\n",
    "#preparando datos para el grafico\n",
    "x=[1,2,3,4,5]\n",
    "y=[6,7,8,9,10]\n",
    "\n",
    "#preparar el achivo de salida\n",
    "output_file(\"line.html\", title=\"Basic Graph\")\n",
    "\n",
    "#crear la figura\n",
    "f=figure()\n",
    "\n",
    "#crear grafico de linea\n",
    "f.line(x,y)\n",
    "\n",
    "#\"mostrar grafico\"\n",
    "show(f)\n"
   ]
  },
  {
   "cell_type": "code",
   "execution_count": 4,
   "metadata": {},
   "outputs": [],
   "source": [
    "#Hacer un grafico sencillo.\n",
    "#importando libreria Bokeh y pandas\n",
    "import pandas\n",
    "from bokeh.plotting import figure\n",
    "from bokeh.io import output_file, show\n",
    "\n",
    "#preparando datos para el grafico\n",
    "df=pandas.read_csv(\"data.csv\")\n",
    "x= df[\"x\"]\n",
    "y=df[\"y\"]\n",
    "\n",
    "#preparar el achivo de salida\n",
    "output_file(\"line.html\", title=\"Basic Graph\")\n",
    "\n",
    "#crear la figura\n",
    "f=figure()\n",
    "\n",
    "#crear grafico de linea\n",
    "f.line(x,y)\n",
    "\n",
    "#\"mostrar grafico\"\n",
    "show(f)\n"
   ]
  }
 ],
 "metadata": {
  "kernelspec": {
   "display_name": "Python 3",
   "language": "python",
   "name": "python3"
  },
  "language_info": {
   "codemirror_mode": {
    "name": "ipython",
    "version": 3
   },
   "file_extension": ".py",
   "mimetype": "text/x-python",
   "name": "python",
   "nbconvert_exporter": "python",
   "pygments_lexer": "ipython3",
   "version": "3.7.3"
  }
 },
 "nbformat": 4,
 "nbformat_minor": 2
}
