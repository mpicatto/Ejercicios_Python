{
 "cells": [
  {
   "cell_type": "code",
   "execution_count": 29,
   "metadata": {},
   "outputs": [
    {
     "name": "stdout",
     "output_type": "stream",
     "text": [
      "3\n"
     ]
    }
   ],
   "source": [
    "import requests\n",
    "from bs4 import BeautifulSoup\n",
    "\n",
    "r = requests.get(\"http://www.pyclass.com/real-estate/rock-springs-wy/LCWYROCKSPRINGS/\", headers={'User-agent': 'Mozilla/5.0 (X11; Ubuntu; Linux x86_64; rv:61.0) Gecko/20100101 Firefox/61.0'})\n",
    "c=r.content\n",
    "soup=BeautifulSoup(c,\"html.parser\")\n",
    "\n",
    "\n",
    "all=soup.find_all(\"div\",{\"class\":\"propertyRow\"})\n",
    "\n",
    "\n",
    "all[0].find(\"h4\",{\"class\":\"propPrice\"}).text.replace(\"\\n\",\"\").replace(\" \",\"\")\n",
    "page_nr=soup.find_all(\"a\",{\"class\":\"Page\"})[-1].text\n",
    "print(page_nr)"
   ]
  },
  {
   "cell_type": "code",
   "execution_count": 3,
   "metadata": {
    "scrolled": true
   },
   "outputs": [
    {
     "ename": "TypeError",
     "evalue": "'builtin_function_or_method' object is not iterable",
     "output_type": "error",
     "traceback": [
      "\u001b[0;31m---------------------------------------------------------------------------\u001b[0m",
      "\u001b[0;31mTypeError\u001b[0m                                 Traceback (most recent call last)",
      "\u001b[0;32m<ipython-input-3-62b327201cd6>\u001b[0m in \u001b[0;36m<module>\u001b[0;34m\u001b[0m\n\u001b[0;32m----> 1\u001b[0;31m \u001b[0;32mfor\u001b[0m \u001b[0mitem\u001b[0m \u001b[0;32min\u001b[0m \u001b[0mall\u001b[0m\u001b[0;34m:\u001b[0m\u001b[0;34m\u001b[0m\u001b[0;34m\u001b[0m\u001b[0m\n\u001b[0m\u001b[1;32m      2\u001b[0m  \u001b[0mprint\u001b[0m\u001b[0;34m(\u001b[0m\u001b[0mitem\u001b[0m\u001b[0;34m.\u001b[0m\u001b[0mfind\u001b[0m\u001b[0;34m(\u001b[0m\u001b[0;34m\"h4\"\u001b[0m\u001b[0;34m,\u001b[0m\u001b[0;34m{\u001b[0m\u001b[0;34m\"class\"\u001b[0m\u001b[0;34m:\u001b[0m\u001b[0;34m\"propPrice\"\u001b[0m\u001b[0;34m}\u001b[0m\u001b[0;34m)\u001b[0m\u001b[0;34m.\u001b[0m\u001b[0mtext\u001b[0m\u001b[0;34m.\u001b[0m\u001b[0mreplace\u001b[0m\u001b[0;34m(\u001b[0m\u001b[0;34m\"\\n\"\u001b[0m\u001b[0;34m,\u001b[0m\u001b[0;34m\"\"\u001b[0m\u001b[0;34m)\u001b[0m\u001b[0;34m.\u001b[0m\u001b[0mreplace\u001b[0m\u001b[0;34m(\u001b[0m\u001b[0;34m\" \"\u001b[0m\u001b[0;34m,\u001b[0m\u001b[0;34m\"\"\u001b[0m\u001b[0;34m)\u001b[0m\u001b[0;34m)\u001b[0m\u001b[0;34m\u001b[0m\u001b[0;34m\u001b[0m\u001b[0m\n\u001b[1;32m      3\u001b[0m  \u001b[0mprint\u001b[0m\u001b[0;34m(\u001b[0m\u001b[0mitem\u001b[0m\u001b[0;34m.\u001b[0m\u001b[0mfind_all\u001b[0m\u001b[0;34m(\u001b[0m\u001b[0;34m\"span\"\u001b[0m\u001b[0;34m,\u001b[0m\u001b[0;34m{\u001b[0m\u001b[0;34m\"class\"\u001b[0m\u001b[0;34m:\u001b[0m\u001b[0;34m\"propAddressCollapse\"\u001b[0m\u001b[0;34m}\u001b[0m\u001b[0;34m)\u001b[0m\u001b[0;34m[\u001b[0m\u001b[0;36m0\u001b[0m\u001b[0;34m]\u001b[0m\u001b[0;34m.\u001b[0m\u001b[0mtext\u001b[0m\u001b[0;34m)\u001b[0m\u001b[0;34m\u001b[0m\u001b[0;34m\u001b[0m\u001b[0m\n\u001b[1;32m      4\u001b[0m  \u001b[0mprint\u001b[0m\u001b[0;34m(\u001b[0m\u001b[0mitem\u001b[0m\u001b[0;34m.\u001b[0m\u001b[0mfind_all\u001b[0m\u001b[0;34m(\u001b[0m\u001b[0;34m\"span\"\u001b[0m\u001b[0;34m,\u001b[0m\u001b[0;34m{\u001b[0m\u001b[0;34m\"class\"\u001b[0m\u001b[0;34m:\u001b[0m\u001b[0;34m\"propAddressCollapse\"\u001b[0m\u001b[0;34m}\u001b[0m\u001b[0;34m)\u001b[0m\u001b[0;34m[\u001b[0m\u001b[0;36m1\u001b[0m\u001b[0;34m]\u001b[0m\u001b[0;34m.\u001b[0m\u001b[0mtext\u001b[0m\u001b[0;34m)\u001b[0m\u001b[0;34m\u001b[0m\u001b[0;34m\u001b[0m\u001b[0m\n\u001b[1;32m      5\u001b[0m  \u001b[0;32mtry\u001b[0m\u001b[0;34m:\u001b[0m\u001b[0;34m\u001b[0m\u001b[0;34m\u001b[0m\u001b[0m\n",
      "\u001b[0;31mTypeError\u001b[0m: 'builtin_function_or_method' object is not iterable"
     ]
    }
   ],
   "source": [
    "for item in all:\n",
    " print(item.find(\"h4\",{\"class\":\"propPrice\"}).text.replace(\"\\n\",\"\").replace(\" \",\"\"))\n",
    " print(item.find_all(\"span\",{\"class\":\"propAddressCollapse\"})[0].text)\n",
    " print(item.find_all(\"span\",{\"class\":\"propAddressCollapse\"})[1].text)\n",
    " try:\n",
    "    print(item.find(\"span\",{\"class\":\"infoBed\"}).find(\"b\").text)\n",
    " except:\n",
    "    print(\"none\")\n",
    " try:\n",
    "    print(item.find(\"span\",{\"class\":\"infoValueFullBath\"}).find(\"b\").text)\n",
    " except:\n",
    "    print(\"none\")\n",
    " try:\n",
    "    print(item.find(\"span\",{\"class\":\"infoSqFt\"}).find(\"b\").text)\n",
    " except:\n",
    "    print(\"none\")\n",
    " try:\n",
    "    print(item.find(\"span\",{\"class\":\"infoValueHalfBath\"}).find(\"b\").text)\n",
    " except:\n",
    "    print(\"none\")\n",
    " for column_group in item.find_all(\"div\",{\"class\":\"columnGroup\"}):\n",
    "    print(column_group) \n",
    " print(\" \")\n"
   ]
  },
  {
   "cell_type": "code",
   "execution_count": 27,
   "metadata": {},
   "outputs": [
    {
     "name": "stdout",
     "output_type": "stream",
     "text": [
      "http://www.pyclass.com/real-estate/rock-springs-wy/LCWYROCKSPRINGS/#t=0&s=0.html\n",
      "[{'Price': '$196,900', 'Address': '4 Minnies Lane', 'Locality': 'Rock Springs, WY 82901', 'Beds': '3', 'Area': '1,664', 'Full Baths': '2', 'Hals Baths': 'none', 'Lot Size': '2.02 Acres'}]\n",
      "http://www.pyclass.com/real-estate/rock-springs-wy/LCWYROCKSPRINGS/#t=0&s=10.html\n",
      "[{'Price': '$196,900', 'Address': '4 Minnies Lane', 'Locality': 'Rock Springs, WY 82901', 'Beds': '3', 'Area': '1,664', 'Full Baths': '2', 'Hals Baths': 'none', 'Lot Size': '2.02 Acres'}, {'Price': '$196,900', 'Address': '4 Minnies Lane', 'Locality': 'Rock Springs, WY 82901', 'Beds': '3', 'Area': '1,664', 'Full Baths': '2', 'Hals Baths': 'none', 'Lot Size': '2.02 Acres'}]\n",
      "http://www.pyclass.com/real-estate/rock-springs-wy/LCWYROCKSPRINGS/#t=0&s=20.html\n",
      "[{'Price': '$196,900', 'Address': '4 Minnies Lane', 'Locality': 'Rock Springs, WY 82901', 'Beds': '3', 'Area': '1,664', 'Full Baths': '2', 'Hals Baths': 'none', 'Lot Size': '2.02 Acres'}, {'Price': '$196,900', 'Address': '4 Minnies Lane', 'Locality': 'Rock Springs, WY 82901', 'Beds': '3', 'Area': '1,664', 'Full Baths': '2', 'Hals Baths': 'none', 'Lot Size': '2.02 Acres'}, {'Price': '$196,900', 'Address': '4 Minnies Lane', 'Locality': 'Rock Springs, WY 82901', 'Beds': '3', 'Area': '1,664', 'Full Baths': '2', 'Hals Baths': 'none', 'Lot Size': '2.02 Acres'}]\n"
     ]
    }
   ],
   "source": [
    "import requests\n",
    "from bs4 import BeautifulSoup\n",
    "import pandas\n",
    "l=[]\n",
    "base_url=\"http://www.pyclass.com/real-estate/rock-springs-wy/LCWYROCKSPRINGS/#t=0&s=\"\n",
    "for page in range(0,30,10):\n",
    "    print(base_url+str(page)+\".html\")\n",
    "    r=requests.get(base_url+str(page)+\".html\", headers={'User-agent': 'Mozilla/5.0 (X11; Ubuntu; Linux x86_64; rv:61.0) Gecko/20100101 Firefox/61.0'})\n",
    "    c=r.content\n",
    "    soup=BeautifulSoup(c,\"html.parser\")\n",
    "    all=soup.find_all(\"div\",{\"class\":\"propertyRow\"})\n",
    "    for item in all:\n",
    "     d={}   \n",
    "     try:\n",
    "        d[\"Price\"]=item.find(\"h4\",{\"class\":\"propPrice\"}).text.replace(\"\\n\",\"\").replace(\" \",\"\")\n",
    "     except:\n",
    "        d[\"Price\"]=\"none\"\n",
    "     try:\n",
    "        d[\"Address\"]=item.find_all(\"span\",{\"class\":\"propAddressCollapse\"})[0].text\n",
    "     except:\n",
    "        d[\"Address\"]=\"none\"\n",
    "     try:\n",
    "        d[\"Locality\"]=item.find_all(\"span\",{\"class\":\"propAddressCollapse\"})[1].text\n",
    "     except:\n",
    "        d[\"Locality\"]=\"none\"\n",
    "     try:\n",
    "        d[\"Beds\"]=item.find(\"span\",{\"class\":\"infoBed\"}).find(\"b\").text\n",
    "     except:\n",
    "        d[\"Beds\"]=\"none\"\n",
    "     try:\n",
    "        d[\"Area\"]=item.find(\"span\",{\"class\":\"infoSqFt\"}).find(\"b\").text\n",
    "     except:\n",
    "        d[\"Area\"]=\"none\"\n",
    "     try:\n",
    "        d[\"Full Baths\"]=item.find(\"span\",{\"class\":\"infoValueFullBath\"}).find(\"b\").text\n",
    "     except:\n",
    "        d[\"Full Baths\"]=\"none\"\n",
    "     try:\n",
    "        d[\"Half Baths\"]=item.find(\"span\",{\"class\":\"infoValueHalfBath\"}).find(\"b\").text\n",
    "     except:\n",
    "        d[\"Hals Baths\"]=\"none\"\n",
    "     for column_group in item.find_all(\"div\",{\"class\":\"columnGroup\"}):\n",
    "        for feature_group, feature_name in zip(column_group.find_all(\"span\",{\"class\":\"featureGroup\"}),column_group.find_all(\"span\",{\"class\":\"featureName\"})):\n",
    "            if \"Lot Size\" in feature_group.text:\n",
    "                d[\"Lot Size\"]=feature_name.text\n",
    "    l.append(d)\n",
    "    print(l)\n",
    "\n",
    "\n"
   ]
  },
  {
   "cell_type": "code",
   "execution_count": 24,
   "metadata": {},
   "outputs": [
    {
     "data": {
      "text/html": [
       "<div>\n",
       "<style scoped>\n",
       "    .dataframe tbody tr th:only-of-type {\n",
       "        vertical-align: middle;\n",
       "    }\n",
       "\n",
       "    .dataframe tbody tr th {\n",
       "        vertical-align: top;\n",
       "    }\n",
       "\n",
       "    .dataframe thead th {\n",
       "        text-align: right;\n",
       "    }\n",
       "</style>\n",
       "<table border=\"1\" class=\"dataframe\">\n",
       "  <thead>\n",
       "    <tr style=\"text-align: right;\">\n",
       "      <th></th>\n",
       "      <th>Address</th>\n",
       "      <th>Area</th>\n",
       "      <th>Beds</th>\n",
       "      <th>Full Baths</th>\n",
       "      <th>Hals Baths</th>\n",
       "      <th>Locality</th>\n",
       "      <th>Lot Size</th>\n",
       "      <th>Price</th>\n",
       "    </tr>\n",
       "  </thead>\n",
       "  <tbody>\n",
       "    <tr>\n",
       "      <th>0</th>\n",
       "      <td>4 Minnies Lane</td>\n",
       "      <td>1,664</td>\n",
       "      <td>3</td>\n",
       "      <td>2</td>\n",
       "      <td>none</td>\n",
       "      <td>Rock Springs, WY 82901</td>\n",
       "      <td>2.02 Acres</td>\n",
       "      <td>$196,900</td>\n",
       "    </tr>\n",
       "    <tr>\n",
       "      <th>1</th>\n",
       "      <td>4 Minnies Lane</td>\n",
       "      <td>1,664</td>\n",
       "      <td>3</td>\n",
       "      <td>2</td>\n",
       "      <td>none</td>\n",
       "      <td>Rock Springs, WY 82901</td>\n",
       "      <td>2.02 Acres</td>\n",
       "      <td>$196,900</td>\n",
       "    </tr>\n",
       "    <tr>\n",
       "      <th>2</th>\n",
       "      <td>4 Minnies Lane</td>\n",
       "      <td>1,664</td>\n",
       "      <td>3</td>\n",
       "      <td>2</td>\n",
       "      <td>none</td>\n",
       "      <td>Rock Springs, WY 82901</td>\n",
       "      <td>2.02 Acres</td>\n",
       "      <td>$196,900</td>\n",
       "    </tr>\n",
       "  </tbody>\n",
       "</table>\n",
       "</div>"
      ],
      "text/plain": [
       "          Address   Area Beds Full Baths Hals Baths                Locality  \\\n",
       "0  4 Minnies Lane  1,664    3          2       none  Rock Springs, WY 82901   \n",
       "1  4 Minnies Lane  1,664    3          2       none  Rock Springs, WY 82901   \n",
       "2  4 Minnies Lane  1,664    3          2       none  Rock Springs, WY 82901   \n",
       "\n",
       "     Lot Size     Price  \n",
       "0  2.02 Acres  $196,900  \n",
       "1  2.02 Acres  $196,900  \n",
       "2  2.02 Acres  $196,900  "
      ]
     },
     "execution_count": 24,
     "metadata": {},
     "output_type": "execute_result"
    }
   ],
   "source": [
    "df=pandas.DataFrame(l)\n",
    "df\n"
   ]
  }
 ],
 "metadata": {
  "kernelspec": {
   "display_name": "Python 3",
   "language": "python",
   "name": "python3"
  },
  "language_info": {
   "codemirror_mode": {
    "name": "ipython",
    "version": 3
   },
   "file_extension": ".py",
   "mimetype": "text/x-python",
   "name": "python",
   "nbconvert_exporter": "python",
   "pygments_lexer": "ipython3",
   "version": "3.7.3"
  }
 },
 "nbformat": 4,
 "nbformat_minor": 2
}
